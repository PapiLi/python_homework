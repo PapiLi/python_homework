{
 "cells": [
  {
   "cell_type": "code",
   "execution_count": 2,
   "metadata": {
    "collapsed": false
   },
   "outputs": [
    {
     "data": {
      "text/html": [
       "<div>\n",
       "<table border=\"1\" class=\"dataframe\">\n",
       "  <thead>\n",
       "    <tr style=\"text-align: right;\">\n",
       "      <th></th>\n",
       "      <th>Rank</th>\n",
       "      <th>Documents</th>\n",
       "      <th>Citable documents</th>\n",
       "      <th>Citations</th>\n",
       "      <th>Self-citations</th>\n",
       "      <th>Citations per document</th>\n",
       "      <th>H index</th>\n",
       "      <th>Energy Supply</th>\n",
       "      <th>Energy Supply per Capita</th>\n",
       "      <th>% Renewable</th>\n",
       "      <th>2008</th>\n",
       "      <th>2009</th>\n",
       "      <th>2010</th>\n",
       "      <th>2011</th>\n",
       "      <th>2012</th>\n",
       "      <th>2013</th>\n",
       "      <th>2014</th>\n",
       "      <th>2015</th>\n",
       "      <th>2016</th>\n",
       "      <th>2017</th>\n",
       "    </tr>\n",
       "    <tr>\n",
       "      <th>Country</th>\n",
       "      <th></th>\n",
       "      <th></th>\n",
       "      <th></th>\n",
       "      <th></th>\n",
       "      <th></th>\n",
       "      <th></th>\n",
       "      <th></th>\n",
       "      <th></th>\n",
       "      <th></th>\n",
       "      <th></th>\n",
       "      <th></th>\n",
       "      <th></th>\n",
       "      <th></th>\n",
       "      <th></th>\n",
       "      <th></th>\n",
       "      <th></th>\n",
       "      <th></th>\n",
       "      <th></th>\n",
       "      <th></th>\n",
       "      <th></th>\n",
       "    </tr>\n",
       "  </thead>\n",
       "  <tbody>\n",
       "    <tr>\n",
       "      <th>China</th>\n",
       "      <td>1</td>\n",
       "      <td>167992</td>\n",
       "      <td>167369</td>\n",
       "      <td>1057626</td>\n",
       "      <td>722578</td>\n",
       "      <td>6.30</td>\n",
       "      <td>176</td>\n",
       "      <td>1.271910e+11</td>\n",
       "      <td>93.0</td>\n",
       "      <td>19.754910</td>\n",
       "      <td>4.598206e+12</td>\n",
       "      <td>5.109954e+12</td>\n",
       "      <td>6.100620e+12</td>\n",
       "      <td>7.572554e+12</td>\n",
       "      <td>8.560547e+12</td>\n",
       "      <td>9.607224e+12</td>\n",
       "      <td>1.048237e+13</td>\n",
       "      <td>1.106467e+13</td>\n",
       "      <td>1.119099e+13</td>\n",
       "      <td>1.223770e+13</td>\n",
       "    </tr>\n",
       "    <tr>\n",
       "      <th>United States</th>\n",
       "      <td>2</td>\n",
       "      <td>126158</td>\n",
       "      <td>123332</td>\n",
       "      <td>1296212</td>\n",
       "      <td>444998</td>\n",
       "      <td>10.27</td>\n",
       "      <td>278</td>\n",
       "      <td>9.083800e+10</td>\n",
       "      <td>286.0</td>\n",
       "      <td>11.570980</td>\n",
       "      <td>1.471858e+13</td>\n",
       "      <td>1.441874e+13</td>\n",
       "      <td>1.496437e+13</td>\n",
       "      <td>1.551793e+13</td>\n",
       "      <td>1.615526e+13</td>\n",
       "      <td>1.669152e+13</td>\n",
       "      <td>1.742761e+13</td>\n",
       "      <td>1.812071e+13</td>\n",
       "      <td>1.862448e+13</td>\n",
       "      <td>1.939060e+13</td>\n",
       "    </tr>\n",
       "    <tr>\n",
       "      <th>Japan</th>\n",
       "      <td>3</td>\n",
       "      <td>37948</td>\n",
       "      <td>37612</td>\n",
       "      <td>316956</td>\n",
       "      <td>85620</td>\n",
       "      <td>8.35</td>\n",
       "      <td>155</td>\n",
       "      <td>1.898400e+10</td>\n",
       "      <td>149.0</td>\n",
       "      <td>10.232820</td>\n",
       "      <td>5.037908e+12</td>\n",
       "      <td>5.231383e+12</td>\n",
       "      <td>5.700098e+12</td>\n",
       "      <td>6.157460e+12</td>\n",
       "      <td>6.203213e+12</td>\n",
       "      <td>5.155717e+12</td>\n",
       "      <td>4.850414e+12</td>\n",
       "      <td>4.394978e+12</td>\n",
       "      <td>4.949273e+12</td>\n",
       "      <td>4.872137e+12</td>\n",
       "    </tr>\n",
       "    <tr>\n",
       "      <th>United Kingdom</th>\n",
       "      <td>4</td>\n",
       "      <td>28998</td>\n",
       "      <td>28176</td>\n",
       "      <td>335914</td>\n",
       "      <td>64609</td>\n",
       "      <td>11.58</td>\n",
       "      <td>170</td>\n",
       "      <td>7.920000e+09</td>\n",
       "      <td>124.0</td>\n",
       "      <td>10.600470</td>\n",
       "      <td>2.890564e+12</td>\n",
       "      <td>2.382826e+12</td>\n",
       "      <td>2.441173e+12</td>\n",
       "      <td>2.619700e+12</td>\n",
       "      <td>2.662085e+12</td>\n",
       "      <td>2.739819e+12</td>\n",
       "      <td>3.022828e+12</td>\n",
       "      <td>2.885570e+12</td>\n",
       "      <td>2.650850e+12</td>\n",
       "      <td>2.622434e+12</td>\n",
       "    </tr>\n",
       "    <tr>\n",
       "      <th>India</th>\n",
       "      <td>5</td>\n",
       "      <td>24872</td>\n",
       "      <td>24300</td>\n",
       "      <td>215787</td>\n",
       "      <td>68150</td>\n",
       "      <td>8.68</td>\n",
       "      <td>141</td>\n",
       "      <td>3.319500e+10</td>\n",
       "      <td>26.0</td>\n",
       "      <td>14.969080</td>\n",
       "      <td>1.186953e+12</td>\n",
       "      <td>1.323940e+12</td>\n",
       "      <td>1.656617e+12</td>\n",
       "      <td>1.823050e+12</td>\n",
       "      <td>1.827638e+12</td>\n",
       "      <td>1.856722e+12</td>\n",
       "      <td>2.039127e+12</td>\n",
       "      <td>2.102391e+12</td>\n",
       "      <td>2.274230e+12</td>\n",
       "      <td>2.597491e+12</td>\n",
       "    </tr>\n",
       "    <tr>\n",
       "      <th>Germany</th>\n",
       "      <td>6</td>\n",
       "      <td>24407</td>\n",
       "      <td>23963</td>\n",
       "      <td>231800</td>\n",
       "      <td>48820</td>\n",
       "      <td>9.50</td>\n",
       "      <td>151</td>\n",
       "      <td>1.326100e+10</td>\n",
       "      <td>165.0</td>\n",
       "      <td>17.901530</td>\n",
       "      <td>3.752366e+12</td>\n",
       "      <td>3.418005e+12</td>\n",
       "      <td>3.417095e+12</td>\n",
       "      <td>3.757698e+12</td>\n",
       "      <td>3.543984e+12</td>\n",
       "      <td>3.752514e+12</td>\n",
       "      <td>3.890607e+12</td>\n",
       "      <td>3.375611e+12</td>\n",
       "      <td>3.477796e+12</td>\n",
       "      <td>3.677439e+12</td>\n",
       "    </tr>\n",
       "    <tr>\n",
       "      <th>Russian Federation</th>\n",
       "      <td>7</td>\n",
       "      <td>23361</td>\n",
       "      <td>23196</td>\n",
       "      <td>55495</td>\n",
       "      <td>22485</td>\n",
       "      <td>2.38</td>\n",
       "      <td>69</td>\n",
       "      <td>3.070900e+10</td>\n",
       "      <td>214.0</td>\n",
       "      <td>17.288680</td>\n",
       "      <td>1.660844e+12</td>\n",
       "      <td>1.222644e+12</td>\n",
       "      <td>1.524916e+12</td>\n",
       "      <td>2.051662e+12</td>\n",
       "      <td>2.210257e+12</td>\n",
       "      <td>2.297128e+12</td>\n",
       "      <td>2.063663e+12</td>\n",
       "      <td>1.368401e+12</td>\n",
       "      <td>1.284728e+12</td>\n",
       "      <td>1.577524e+12</td>\n",
       "    </tr>\n",
       "    <tr>\n",
       "      <th>Canada</th>\n",
       "      <td>8</td>\n",
       "      <td>22908</td>\n",
       "      <td>22465</td>\n",
       "      <td>332093</td>\n",
       "      <td>62436</td>\n",
       "      <td>14.50</td>\n",
       "      <td>177</td>\n",
       "      <td>1.043100e+10</td>\n",
       "      <td>296.0</td>\n",
       "      <td>61.945430</td>\n",
       "      <td>1.549131e+12</td>\n",
       "      <td>1.371153e+12</td>\n",
       "      <td>1.613464e+12</td>\n",
       "      <td>1.788648e+12</td>\n",
       "      <td>1.824289e+12</td>\n",
       "      <td>1.842628e+12</td>\n",
       "      <td>1.799269e+12</td>\n",
       "      <td>1.559623e+12</td>\n",
       "      <td>1.535768e+12</td>\n",
       "      <td>1.653043e+12</td>\n",
       "    </tr>\n",
       "    <tr>\n",
       "      <th>France</th>\n",
       "      <td>9</td>\n",
       "      <td>17569</td>\n",
       "      <td>17230</td>\n",
       "      <td>203486</td>\n",
       "      <td>43210</td>\n",
       "      <td>11.58</td>\n",
       "      <td>139</td>\n",
       "      <td>1.059700e+10</td>\n",
       "      <td>166.0</td>\n",
       "      <td>17.020280</td>\n",
       "      <td>2.918383e+12</td>\n",
       "      <td>2.690222e+12</td>\n",
       "      <td>2.642610e+12</td>\n",
       "      <td>2.861408e+12</td>\n",
       "      <td>2.683825e+12</td>\n",
       "      <td>2.811078e+12</td>\n",
       "      <td>2.852166e+12</td>\n",
       "      <td>2.438208e+12</td>\n",
       "      <td>2.465134e+12</td>\n",
       "      <td>2.582501e+12</td>\n",
       "    </tr>\n",
       "    <tr>\n",
       "      <th>South Korea</th>\n",
       "      <td>10</td>\n",
       "      <td>16004</td>\n",
       "      <td>15848</td>\n",
       "      <td>176965</td>\n",
       "      <td>34607</td>\n",
       "      <td>11.06</td>\n",
       "      <td>124</td>\n",
       "      <td>1.100700e+10</td>\n",
       "      <td>221.0</td>\n",
       "      <td>2.279353</td>\n",
       "      <td>1.002219e+12</td>\n",
       "      <td>9.019350e+11</td>\n",
       "      <td>1.094499e+12</td>\n",
       "      <td>1.202464e+12</td>\n",
       "      <td>1.222807e+12</td>\n",
       "      <td>1.305605e+12</td>\n",
       "      <td>1.411334e+12</td>\n",
       "      <td>1.382764e+12</td>\n",
       "      <td>1.414804e+12</td>\n",
       "      <td>1.530751e+12</td>\n",
       "    </tr>\n",
       "    <tr>\n",
       "      <th>Italy</th>\n",
       "      <td>11</td>\n",
       "      <td>15880</td>\n",
       "      <td>15411</td>\n",
       "      <td>184184</td>\n",
       "      <td>45471</td>\n",
       "      <td>11.60</td>\n",
       "      <td>127</td>\n",
       "      <td>6.530000e+09</td>\n",
       "      <td>109.0</td>\n",
       "      <td>33.667230</td>\n",
       "      <td>2.390729e+12</td>\n",
       "      <td>2.185160e+12</td>\n",
       "      <td>2.125058e+12</td>\n",
       "      <td>2.276292e+12</td>\n",
       "      <td>2.072823e+12</td>\n",
       "      <td>2.130491e+12</td>\n",
       "      <td>2.151733e+12</td>\n",
       "      <td>1.832868e+12</td>\n",
       "      <td>1.859384e+12</td>\n",
       "      <td>1.934798e+12</td>\n",
       "    </tr>\n",
       "    <tr>\n",
       "      <th>Iran</th>\n",
       "      <td>12</td>\n",
       "      <td>13131</td>\n",
       "      <td>12983</td>\n",
       "      <td>119550</td>\n",
       "      <td>39184</td>\n",
       "      <td>9.10</td>\n",
       "      <td>94</td>\n",
       "      <td>9.172000e+09</td>\n",
       "      <td>119.0</td>\n",
       "      <td>5.707721</td>\n",
       "      <td>4.060709e+11</td>\n",
       "      <td>4.140591e+11</td>\n",
       "      <td>4.870696e+11</td>\n",
       "      <td>5.835004e+11</td>\n",
       "      <td>5.988534e+11</td>\n",
       "      <td>4.674149e+11</td>\n",
       "      <td>4.344746e+11</td>\n",
       "      <td>3.858745e+11</td>\n",
       "      <td>4.189767e+11</td>\n",
       "      <td>4.395135e+11</td>\n",
       "    </tr>\n",
       "    <tr>\n",
       "      <th>Brazil</th>\n",
       "      <td>13</td>\n",
       "      <td>12705</td>\n",
       "      <td>12559</td>\n",
       "      <td>99136</td>\n",
       "      <td>24398</td>\n",
       "      <td>7.80</td>\n",
       "      <td>103</td>\n",
       "      <td>1.214900e+10</td>\n",
       "      <td>59.0</td>\n",
       "      <td>69.648030</td>\n",
       "      <td>1.695825e+12</td>\n",
       "      <td>1.667020e+12</td>\n",
       "      <td>2.208872e+12</td>\n",
       "      <td>2.616202e+12</td>\n",
       "      <td>2.465189e+12</td>\n",
       "      <td>2.472807e+12</td>\n",
       "      <td>2.455994e+12</td>\n",
       "      <td>1.802214e+12</td>\n",
       "      <td>1.793989e+12</td>\n",
       "      <td>2.055506e+12</td>\n",
       "    </tr>\n",
       "    <tr>\n",
       "      <th>Australia</th>\n",
       "      <td>14</td>\n",
       "      <td>12635</td>\n",
       "      <td>12397</td>\n",
       "      <td>157471</td>\n",
       "      <td>27620</td>\n",
       "      <td>12.46</td>\n",
       "      <td>131</td>\n",
       "      <td>5.386000e+09</td>\n",
       "      <td>231.0</td>\n",
       "      <td>11.810810</td>\n",
       "      <td>1.052585e+12</td>\n",
       "      <td>9.264482e+11</td>\n",
       "      <td>1.144261e+12</td>\n",
       "      <td>1.394281e+12</td>\n",
       "      <td>1.543411e+12</td>\n",
       "      <td>1.573697e+12</td>\n",
       "      <td>1.464955e+12</td>\n",
       "      <td>1.349034e+12</td>\n",
       "      <td>1.208039e+12</td>\n",
       "      <td>1.323421e+12</td>\n",
       "    </tr>\n",
       "    <tr>\n",
       "      <th>Spain</th>\n",
       "      <td>15</td>\n",
       "      <td>12478</td>\n",
       "      <td>12270</td>\n",
       "      <td>195663</td>\n",
       "      <td>36353</td>\n",
       "      <td>15.68</td>\n",
       "      <td>138</td>\n",
       "      <td>4.923000e+09</td>\n",
       "      <td>106.0</td>\n",
       "      <td>37.968590</td>\n",
       "      <td>1.635015e+12</td>\n",
       "      <td>1.499100e+12</td>\n",
       "      <td>1.431617e+12</td>\n",
       "      <td>1.488067e+12</td>\n",
       "      <td>1.336019e+12</td>\n",
       "      <td>1.361854e+12</td>\n",
       "      <td>1.376911e+12</td>\n",
       "      <td>1.197790e+12</td>\n",
       "      <td>1.237255e+12</td>\n",
       "      <td>1.311320e+12</td>\n",
       "    </tr>\n",
       "  </tbody>\n",
       "</table>\n",
       "</div>"
      ],
      "text/plain": [
       "                    Rank  Documents  Citable documents  Citations  \\\n",
       "Country                                                             \n",
       "China                  1     167992             167369    1057626   \n",
       "United States          2     126158             123332    1296212   \n",
       "Japan                  3      37948              37612     316956   \n",
       "United Kingdom         4      28998              28176     335914   \n",
       "India                  5      24872              24300     215787   \n",
       "Germany                6      24407              23963     231800   \n",
       "Russian Federation     7      23361              23196      55495   \n",
       "Canada                 8      22908              22465     332093   \n",
       "France                 9      17569              17230     203486   \n",
       "South Korea           10      16004              15848     176965   \n",
       "Italy                 11      15880              15411     184184   \n",
       "Iran                  12      13131              12983     119550   \n",
       "Brazil                13      12705              12559      99136   \n",
       "Australia             14      12635              12397     157471   \n",
       "Spain                 15      12478              12270     195663   \n",
       "\n",
       "                    Self-citations  Citations per document  H index  \\\n",
       "Country                                                               \n",
       "China                       722578                    6.30      176   \n",
       "United States               444998                   10.27      278   \n",
       "Japan                        85620                    8.35      155   \n",
       "United Kingdom               64609                   11.58      170   \n",
       "India                        68150                    8.68      141   \n",
       "Germany                      48820                    9.50      151   \n",
       "Russian Federation           22485                    2.38       69   \n",
       "Canada                       62436                   14.50      177   \n",
       "France                       43210                   11.58      139   \n",
       "South Korea                  34607                   11.06      124   \n",
       "Italy                        45471                   11.60      127   \n",
       "Iran                         39184                    9.10       94   \n",
       "Brazil                       24398                    7.80      103   \n",
       "Australia                    27620                   12.46      131   \n",
       "Spain                        36353                   15.68      138   \n",
       "\n",
       "                    Energy Supply  Energy Supply per Capita  % Renewable  \\\n",
       "Country                                                                    \n",
       "China                1.271910e+11                      93.0    19.754910   \n",
       "United States        9.083800e+10                     286.0    11.570980   \n",
       "Japan                1.898400e+10                     149.0    10.232820   \n",
       "United Kingdom       7.920000e+09                     124.0    10.600470   \n",
       "India                3.319500e+10                      26.0    14.969080   \n",
       "Germany              1.326100e+10                     165.0    17.901530   \n",
       "Russian Federation   3.070900e+10                     214.0    17.288680   \n",
       "Canada               1.043100e+10                     296.0    61.945430   \n",
       "France               1.059700e+10                     166.0    17.020280   \n",
       "South Korea          1.100700e+10                     221.0     2.279353   \n",
       "Italy                6.530000e+09                     109.0    33.667230   \n",
       "Iran                 9.172000e+09                     119.0     5.707721   \n",
       "Brazil               1.214900e+10                      59.0    69.648030   \n",
       "Australia            5.386000e+09                     231.0    11.810810   \n",
       "Spain                4.923000e+09                     106.0    37.968590   \n",
       "\n",
       "                            2008          2009          2010          2011  \\\n",
       "Country                                                                      \n",
       "China               4.598206e+12  5.109954e+12  6.100620e+12  7.572554e+12   \n",
       "United States       1.471858e+13  1.441874e+13  1.496437e+13  1.551793e+13   \n",
       "Japan               5.037908e+12  5.231383e+12  5.700098e+12  6.157460e+12   \n",
       "United Kingdom      2.890564e+12  2.382826e+12  2.441173e+12  2.619700e+12   \n",
       "India               1.186953e+12  1.323940e+12  1.656617e+12  1.823050e+12   \n",
       "Germany             3.752366e+12  3.418005e+12  3.417095e+12  3.757698e+12   \n",
       "Russian Federation  1.660844e+12  1.222644e+12  1.524916e+12  2.051662e+12   \n",
       "Canada              1.549131e+12  1.371153e+12  1.613464e+12  1.788648e+12   \n",
       "France              2.918383e+12  2.690222e+12  2.642610e+12  2.861408e+12   \n",
       "South Korea         1.002219e+12  9.019350e+11  1.094499e+12  1.202464e+12   \n",
       "Italy               2.390729e+12  2.185160e+12  2.125058e+12  2.276292e+12   \n",
       "Iran                4.060709e+11  4.140591e+11  4.870696e+11  5.835004e+11   \n",
       "Brazil              1.695825e+12  1.667020e+12  2.208872e+12  2.616202e+12   \n",
       "Australia           1.052585e+12  9.264482e+11  1.144261e+12  1.394281e+12   \n",
       "Spain               1.635015e+12  1.499100e+12  1.431617e+12  1.488067e+12   \n",
       "\n",
       "                            2012          2013          2014          2015  \\\n",
       "Country                                                                      \n",
       "China               8.560547e+12  9.607224e+12  1.048237e+13  1.106467e+13   \n",
       "United States       1.615526e+13  1.669152e+13  1.742761e+13  1.812071e+13   \n",
       "Japan               6.203213e+12  5.155717e+12  4.850414e+12  4.394978e+12   \n",
       "United Kingdom      2.662085e+12  2.739819e+12  3.022828e+12  2.885570e+12   \n",
       "India               1.827638e+12  1.856722e+12  2.039127e+12  2.102391e+12   \n",
       "Germany             3.543984e+12  3.752514e+12  3.890607e+12  3.375611e+12   \n",
       "Russian Federation  2.210257e+12  2.297128e+12  2.063663e+12  1.368401e+12   \n",
       "Canada              1.824289e+12  1.842628e+12  1.799269e+12  1.559623e+12   \n",
       "France              2.683825e+12  2.811078e+12  2.852166e+12  2.438208e+12   \n",
       "South Korea         1.222807e+12  1.305605e+12  1.411334e+12  1.382764e+12   \n",
       "Italy               2.072823e+12  2.130491e+12  2.151733e+12  1.832868e+12   \n",
       "Iran                5.988534e+11  4.674149e+11  4.344746e+11  3.858745e+11   \n",
       "Brazil              2.465189e+12  2.472807e+12  2.455994e+12  1.802214e+12   \n",
       "Australia           1.543411e+12  1.573697e+12  1.464955e+12  1.349034e+12   \n",
       "Spain               1.336019e+12  1.361854e+12  1.376911e+12  1.197790e+12   \n",
       "\n",
       "                            2016          2017  \n",
       "Country                                         \n",
       "China               1.119099e+13  1.223770e+13  \n",
       "United States       1.862448e+13  1.939060e+13  \n",
       "Japan               4.949273e+12  4.872137e+12  \n",
       "United Kingdom      2.650850e+12  2.622434e+12  \n",
       "India               2.274230e+12  2.597491e+12  \n",
       "Germany             3.477796e+12  3.677439e+12  \n",
       "Russian Federation  1.284728e+12  1.577524e+12  \n",
       "Canada              1.535768e+12  1.653043e+12  \n",
       "France              2.465134e+12  2.582501e+12  \n",
       "South Korea         1.414804e+12  1.530751e+12  \n",
       "Italy               1.859384e+12  1.934798e+12  \n",
       "Iran                4.189767e+11  4.395135e+11  \n",
       "Brazil              1.793989e+12  2.055506e+12  \n",
       "Australia           1.208039e+12  1.323421e+12  \n",
       "Spain               1.237255e+12  1.311320e+12  "
      ]
     },
     "execution_count": 2,
     "metadata": {},
     "output_type": "execute_result"
    }
   ],
   "source": [
    "# coding: utf-8\n",
    "import pandas as pd\n",
    "import numpy as np\n",
    "def answer_one():\n",
    "    energy = pd.read_excel('Energy Indicators.xls',skiprows=[x for x in range(17)],skip_footer=38,usecols=[2,3,4,5],names=['Country', 'Energy Supply', 'Energy Supply per Capita', '% Renewable'])\n",
    "    energy.replace('...', np.nan,inplace=True)\n",
    "    energy['Energy Supply'] = energy['Energy Supply']*1000000\n",
    "    energy['Country'] = energy['Country'].str.replace(r\"(\\s+\\(.*\\))|(\\d*)\",\"\")\n",
    "    energy.replace(\"Republic of Korea\",\"South Korea\",inplace=True)\n",
    "    energy.replace(\"United States of America\",\"United States\",inplace=True)\n",
    "    energy.replace(\"United Kingdom of Great Britain and Northern Ireland\",\"United Kingdom\",inplace=True)\n",
    "    energy.replace(\"China, Hong Kong Special Administrative Region\",\"Hong Kong\",inplace=True)\n",
    "    \n",
    "    GDP = pd.read_csv('world_bank.csv',skiprows=[0,1,2,3])\n",
    "    GDP.replace(\"Korea, Rep.\",\"South Korea\",inplace=True)\n",
    "    GDP.replace(\"Iran, Islamic Rep.\",\"Iran\",inplace=True)\n",
    "    GDP.replace(\"Hong Kong SAR, China\",\"Hong Kong\",inplace=True)\n",
    "    \n",
    "    ScimEn = pd.read_excel('scimagojr-3.xlsx')\n",
    "    \n",
    "    mergeScimEnAndEnergy = pd.merge(ScimEn,energy,how='inner',left_on='Country',right_on='Country')\n",
    "    merge2 = pd.merge(mergeScimEnAndEnergy,GDP,how='inner',left_on='Country',right_on='Country Name')\n",
    "    merge2 = merge2[merge2['Rank']<=15]\n",
    "    merge2.drop(labels=[str(x) for x in range(1960,2007)],axis=1,inplace=True)\n",
    "    merge2.drop(labels=['Country Code','Indicator Name','Indicator Code'],axis=1,inplace=True)\n",
    "    merge2.set_index('Country',inplace=True)\n",
    "    merge2 = merge2[['Rank', 'Documents', 'Citable documents', 'Citations', 'Self-citations', 'Citations per document', 'H index', 'Energy Supply', 'Energy Supply per Capita', '% Renewable', '2008', '2009', '2010', '2011', '2012', '2013', '2014', '2015','2016','2017']]\n",
    "    return merge2\n",
    "answer_one()"
   ]
  },
  {
   "cell_type": "code",
   "execution_count": 13,
   "metadata": {
    "collapsed": false
   },
   "outputs": [
    {
     "data": {
      "text/plain": [
       "157"
      ]
     },
     "execution_count": 13,
     "metadata": {},
     "output_type": "execute_result"
    }
   ],
   "source": [
    "def answer_two():\n",
    "    energy = pd.read_excel('Energy Indicators.xls',skiprows=[x for x in range(17)],skip_footer=38,usecols=[2,3,4,5],names=['Country', 'Energy Supply', 'Energy Supply per Capita', '% Renewable'])\n",
    "    energy.replace('...', np.nan,inplace=True)\n",
    "    energy['Energy Supply'] = energy['Energy Supply']*1000000\n",
    "    energy['Country'] = energy['Country'].str.replace(r\"(\\s+\\(.*\\))|(\\d*)\",\"\")\n",
    "    energy.replace(\"Republic of Korea\",\"South Korea\",inplace=True)\n",
    "    energy.replace(\"United States of America\",\"United States\",inplace=True)\n",
    "    energy.replace(\"United Kingdom of Great Britain and Northern Ireland\",\"United Kingdom\",inplace=True)\n",
    "    energy.replace(\"China, Hong Kong Special Administrative Region\",\"Hong Kong\",inplace=True)\n",
    "    \n",
    "    GDP = pd.read_csv('world_bank.csv',skiprows=[0,1,2,3])\n",
    "    GDP.replace(\"Korea, Rep.\",\"South Korea\",inplace=True)\n",
    "    GDP.replace(\"Iran, Islamic Rep.\",\"Iran\",inplace=True)\n",
    "    GDP.replace(\"Hong Kong SAR, China\",\"Hong Kong\",inplace=True)\n",
    "    \n",
    "    ScimEn = pd.read_excel('scimagojr-3.xlsx')\n",
    "    \n",
    "    mergeScimEnAndEnergy = pd.merge(ScimEn,energy,how='outer',left_on='Country',right_on='Country')\n",
    "    merge2a = pd.merge(mergeScimEnAndEnergy,GDP,how='outer',left_on='Country',right_on='Country Name')\n",
    "    \n",
    "    mergeScimEnAndEnergy = pd.merge(ScimEn,energy,how='inner',left_on='Country',right_on='Country')\n",
    "    merge2b = pd.merge(mergeScimEnAndEnergy,GDP,how='inner',left_on='Country',right_on='Country Name')\n",
    "    return len(merge2a)-len(merge2b)\n",
    "answer_two()"
   ]
  },
  {
   "cell_type": "code",
   "execution_count": 4,
   "metadata": {
    "collapsed": false
   },
   "outputs": [
    {
     "data": {
      "text/plain": [
       "Country\n",
       "United States         1.629324e+13\n",
       "China                 8.254126e+12\n",
       "Japan                 5.297827e+12\n",
       "Germany               3.598408e+12\n",
       "France                2.707004e+12\n",
       "United Kingdom        2.699491e+12\n",
       "Brazil                2.130901e+12\n",
       "Italy                 2.113838e+12\n",
       "India                 1.787852e+12\n",
       "Russian Federation    1.742694e+12\n",
       "Canada                1.653775e+12\n",
       "Spain                 1.395959e+12\n",
       "Australia             1.295190e+12\n",
       "South Korea           1.215381e+12\n",
       "Iran                  4.662549e+11\n",
       "Name: avgGDP, dtype: float64"
      ]
     },
     "execution_count": 4,
     "metadata": {},
     "output_type": "execute_result"
    }
   ],
   "source": [
    "def answer_three():\n",
    "    Top15 = answer_one()\n",
    "    rows = [str(x) for x in range(2008,2017)]\n",
    "    avg = np.average(Top15[rows],axis=1)\n",
    "    return pd.Series(avg,index=Top15.index,name='avgGDP').sort_values(ascending=False)\n",
    "answer_three()"
   ]
  },
  {
   "cell_type": "code",
   "execution_count": 8,
   "metadata": {
    "collapsed": false
   },
   "outputs": [
    {
     "data": {
      "text/plain": [
       "7639494387991.0"
      ]
     },
     "execution_count": 8,
     "metadata": {},
     "output_type": "execute_result"
    }
   ],
   "source": [
    "def answer_four():\n",
    "    Top15 = answer_one()\n",
    "    Top15['avg'] = answer_three()\n",
    "    Top15.sort_values(by='avg', inplace=True, ascending=False)\n",
    "    row = Top15.iloc[1]\n",
    "    g2008 = row['2008']\n",
    "    g2017 = row['2017']\n",
    "    return abs(g2017-g2008)\n",
    "answer_four()"
   ]
  },
  {
   "cell_type": "code",
   "execution_count": 7,
   "metadata": {
    "collapsed": false
   },
   "outputs": [
    {
     "data": {
      "text/plain": [
       "157.6"
      ]
     },
     "execution_count": 7,
     "metadata": {},
     "output_type": "execute_result"
    }
   ],
   "source": [
    "def answer_five():\n",
    "    Top15 = answer_one()\n",
    "    temp = Top15['Energy Supply per Capita'].values.tolist()\n",
    "    return sum(temp)/len(temp)\n",
    "answer_five()\n"
   ]
  },
  {
   "cell_type": "code",
   "execution_count": 8,
   "metadata": {
    "collapsed": false
   },
   "outputs": [
    {
     "data": {
      "text/plain": [
       "('Brazil', 69.648030000000006)"
      ]
     },
     "execution_count": 8,
     "metadata": {},
     "output_type": "execute_result"
    }
   ],
   "source": [
    "def answer_six():\n",
    "    Top15 = answer_one()\n",
    "    sub = Top15[Top15['% Renewable']==max(Top15['% Renewable'])]\n",
    "    country = sub.index.values[0]\n",
    "    percentage = sub['% Renewable'].values[0]\n",
    "    return (country,percentage)\n",
    "answer_six()"
   ]
  },
  {
   "cell_type": "code",
   "execution_count": 9,
   "metadata": {
    "collapsed": false
   },
   "outputs": [
    {
     "data": {
      "text/plain": [
       "('China', 0.68320748544381471)"
      ]
     },
     "execution_count": 9,
     "metadata": {},
     "output_type": "execute_result"
    }
   ],
   "source": [
    "def answer_seven():\n",
    "    Top15 = answer_one()\n",
    "    ratio = Top15['Self-citations']/Top15['Citations']\n",
    "    value = max(ratio)\n",
    "    country = Top15[ratio==max(ratio)].index.values[0]\n",
    "    return (country,value)\n",
    "answer_seven()"
   ]
  },
  {
   "cell_type": "code",
   "execution_count": 10,
   "metadata": {
    "collapsed": false
   },
   "outputs": [
    {
     "data": {
      "text/plain": [
       "'United States'"
      ]
     },
     "execution_count": 10,
     "metadata": {},
     "output_type": "execute_result"
    }
   ],
   "source": [
    "def answer_eight():\n",
    "    Top15 = answer_one()\n",
    "    population = Top15['Energy Supply']/Top15['Energy Supply per Capita']\n",
    "    temp = pd.Series(population,index=Top15.index,name='population').sort_values()\n",
    "    return temp.index.values[-3]\n",
    "answer_eight()"
   ]
  },
  {
   "cell_type": "code",
   "execution_count": 11,
   "metadata": {
    "collapsed": false
   },
   "outputs": [
    {
     "data": {
      "text/plain": [
       "0.77404323399911701"
      ]
     },
     "execution_count": 11,
     "metadata": {},
     "output_type": "execute_result"
    }
   ],
   "source": [
    "def answer_nine():\n",
    "    Top15 = answer_one()\n",
    "    newColumn = Top15['Citable documents']/(Top15['Energy Supply'] / Top15['Energy Supply per Capita'])\n",
    "    return Top15['Energy Supply per Capita'].corr(newColumn)\n",
    "answer_nine()"
   ]
  },
  {
   "cell_type": "code",
   "execution_count": 12,
   "metadata": {
    "collapsed": true
   },
   "outputs": [],
   "source": [
    "def plot9():\n",
    "    import matplotlib as plt\n",
    "    Top15 = answer_one()\n",
    "    Top15['Pop'] = Top15['Energy Supply'] / Top15['Energy Supply per Capita']\n",
    "    Top15['Citable docs per Capita'] = Top15['Citable documents'] / Top15['Pop']\n",
    "    Top15.plot(x='Citable docs per Capita', y='Energy Supply per Capita', kind='scatter', xlim=[0, 0.0006])"
   ]
  },
  {
   "cell_type": "code",
   "execution_count": 13,
   "metadata": {
    "collapsed": false
   },
   "outputs": [
    {
     "data": {
      "image/png": "[encoded data removed]",
      "text/plain": [
       "<matplotlib.figure.Figure at 0x1c2712e3dd8>"
      ]
     },
     "metadata": {},
     "output_type": "display_data"
    }
   ],
   "source": [
    "plot9()"
   ]
  },
  {
   "cell_type": "code",
   "execution_count": 14,
   "metadata": {
    "collapsed": false
   },
   "outputs": [
    {
     "data": {
      "text/plain": [
       "Country\n",
       "China                 1.0\n",
       "United States         0.0\n",
       "Japan                 0.0\n",
       "United Kingdom        0.0\n",
       "India                 0.0\n",
       "Germany               1.0\n",
       "Russian Federation    1.0\n",
       "Canada                1.0\n",
       "France                1.0\n",
       "South Korea           0.0\n",
       "Italy                 1.0\n",
       "Iran                  0.0\n",
       "Brazil                1.0\n",
       "Australia             0.0\n",
       "Spain                 1.0\n",
       "Name: HighRenew, dtype: float64"
      ]
     },
     "execution_count": 14,
     "metadata": {},
     "output_type": "execute_result"
    }
   ],
   "source": [
    "def answer_ten():\n",
    "    Top15 = answer_one().sort_values(by='Rank')\n",
    "    theColumn = Top15['% Renewable'].values\n",
    "    medianValue = np.median(theColumn)\n",
    "    mask1 = theColumn>=medianValue\n",
    "    mask2 = theColumn<medianValue\n",
    "    theColumn[mask1] = 1\n",
    "    theColumn[mask2] = 0\n",
    "    return pd.Series(theColumn,index=Top15.index,name='HighRenew')\n",
    "answer_ten()"
   ]
  },
  {
   "cell_type": "code",
   "execution_count": 15,
   "metadata": {
    "collapsed": false
   },
   "outputs": [
    {
     "data": {
      "text/html": [
       "<div>\n",
       "<table border=\"1\" class=\"dataframe\">\n",
       "  <thead>\n",
       "    <tr style=\"text-align: right;\">\n",
       "      <th></th>\n",
       "      <th>mean</th>\n",
       "      <th>size</th>\n",
       "      <th>std</th>\n",
       "      <th>sum</th>\n",
       "    </tr>\n",
       "  </thead>\n",
       "  <tbody>\n",
       "    <tr>\n",
       "      <th>Asia</th>\n",
       "      <td>5.797333e+08</td>\n",
       "      <td>5</td>\n",
       "      <td>6.074036e+08</td>\n",
       "      <td>2.898666e+09</td>\n",
       "    </tr>\n",
       "    <tr>\n",
       "      <th>Australia</th>\n",
       "      <td>2.331602e+07</td>\n",
       "      <td>1</td>\n",
       "      <td>0.000000e+00</td>\n",
       "      <td>2.331602e+07</td>\n",
       "    </tr>\n",
       "    <tr>\n",
       "      <th>Europe</th>\n",
       "      <td>7.632161e+07</td>\n",
       "      <td>6</td>\n",
       "      <td>3.162885e+07</td>\n",
       "      <td>4.579297e+08</td>\n",
       "    </tr>\n",
       "    <tr>\n",
       "      <th>North America</th>\n",
       "      <td>1.764276e+08</td>\n",
       "      <td>2</td>\n",
       "      <td>1.411878e+08</td>\n",
       "      <td>3.528552e+08</td>\n",
       "    </tr>\n",
       "    <tr>\n",
       "      <th>South America</th>\n",
       "      <td>2.059153e+08</td>\n",
       "      <td>1</td>\n",
       "      <td>0.000000e+00</td>\n",
       "      <td>2.059153e+08</td>\n",
       "    </tr>\n",
       "  </tbody>\n",
       "</table>\n",
       "</div>"
      ],
      "text/plain": [
       "                       mean  size           std           sum\n",
       "Asia           5.797333e+08     5  6.074036e+08  2.898666e+09\n",
       "Australia      2.331602e+07     1  0.000000e+00  2.331602e+07\n",
       "Europe         7.632161e+07     6  3.162885e+07  4.579297e+08\n",
       "North America  1.764276e+08     2  1.411878e+08  3.528552e+08\n",
       "South America  2.059153e+08     1  0.000000e+00  2.059153e+08"
      ]
     },
     "execution_count": 15,
     "metadata": {},
     "output_type": "execute_result"
    }
   ],
   "source": [
    "def answer_eleven():\n",
    "    Top15 = answer_one()\n",
    "    Top15['pop'] = Top15['Energy Supply'] / Top15['Energy Supply per Capita']\n",
    "    ContinentDict  = {'China':'Asia', \n",
    "                      'United States':'North America', \n",
    "                      'Japan':'Asia', \n",
    "                      'United Kingdom':'Europe', \n",
    "                      'Russian Federation':'Europe', \n",
    "                      'Canada':'North America', \n",
    "                      'Germany':'Europe', \n",
    "                      'India':'Asia',\n",
    "                      'France':'Europe', \n",
    "                      'South Korea':'Asia', \n",
    "                      'Italy':'Europe', \n",
    "                      'Spain':'Europe', \n",
    "                      'Iran':'Asia',\n",
    "                      'Australia':'Australia', \n",
    "                      'Brazil':'South America'}\n",
    "    index = []\n",
    "    item = []\n",
    "    for group,frame in Top15.groupby(ContinentDict):\n",
    "        index.append(group)\n",
    "        item.append({'size':len(frame),'sum':np.sum(frame['pop']),'mean':np.average(frame['pop']),'std':np.std(frame['pop'])})\n",
    "    return pd.DataFrame(item,index=index)\n",
    "answer_eleven()"
   ]
  },
  {
   "cell_type": "code",
   "execution_count": 16,
   "metadata": {
    "collapsed": false
   },
   "outputs": [
    {
     "data": {
      "text/plain": [
       "Continent      bins            \n",
       "Asia           (2.212, 15.753]     4\n",
       "               (15.753, 29.227]    1\n",
       "Australia      (2.212, 15.753]     1\n",
       "Europe         (2.212, 15.753]     1\n",
       "               (15.753, 29.227]    3\n",
       "               (29.227, 42.701]    2\n",
       "North America  (2.212, 15.753]     1\n",
       "               (56.174, 69.648]    1\n",
       "South America  (56.174, 69.648]    1\n",
       "dtype: int64"
      ]
     },
     "execution_count": 16,
     "metadata": {},
     "output_type": "execute_result"
    }
   ],
   "source": [
    "def answer_twelve():\n",
    "    Top15 = answer_one()\n",
    "    ContinentDict  = {'China':'Asia', \n",
    "                      'United States':'North America', \n",
    "                      'Japan':'Asia', \n",
    "                      'United Kingdom':'Europe', \n",
    "                      'Russian Federation':'Europe', \n",
    "                      'Canada':'North America', \n",
    "                      'Germany':'Europe', \n",
    "                      'India':'Asia',\n",
    "                      'France':'Europe', \n",
    "                      'South Korea':'Asia', \n",
    "                      'Italy':'Europe', \n",
    "                      'Spain':'Europe', \n",
    "                      'Iran':'Asia',\n",
    "                      'Australia':'Australia', \n",
    "                      'Brazil':'South America'}\n",
    "    Top15 = Top15.reset_index()\n",
    "    Top15['Continent'] = [ContinentDict[country] for country in Top15['Country']]\n",
    "    Top15['bins'] = pd.cut(Top15['% Renewable'],5)\n",
    "    return Top15.groupby(['Continent','bins']).size()\n",
    "answer_twelve()"
   ]
  },
  {
   "cell_type": "code",
   "execution_count": 17,
   "metadata": {
    "collapsed": false
   },
   "outputs": [
    {
     "data": {
      "text/plain": [
       "China                 1,367,645,161.2903225\n",
       "United States          317,615,384.61538464\n",
       "Japan                  127,409,395.97315437\n",
       "United Kingdom         63,870,967.741935484\n",
       "India                 1,276,730,769.2307692\n",
       "Germany                 80,369,696.96969697\n",
       "Russian Federation            143,500,000.0\n",
       "Canada                  35,239,864.86486486\n",
       "France                  63,837,349.39759036\n",
       "South Korea            49,805,429.864253394\n",
       "Italy                  59,908,256.880733944\n",
       "Iran                    77,075,630.25210084\n",
       "Brazil                 205,915,254.23728815\n",
       "Australia              23,316,017.316017315\n",
       "Spain                    46,443,396.2264151\n",
       "Name: PopEst, dtype: object"
      ]
     },
     "execution_count": 17,
     "metadata": {},
     "output_type": "execute_result"
    }
   ],
   "source": [
    "def answer_thirteen():\n",
    "    Top15 = answer_one()\n",
    "    pop = Top15['Energy Supply'] / Top15['Energy Supply per Capita']\n",
    "    index = pop.index.values\n",
    "    value = []\n",
    "    for x in pop.values.tolist():\n",
    "        value.append(\"{:,}\".format(x))\n",
    "    return pd.Series(value,index=index,name='PopEst')\n",
    "answer_thirteen()"
   ]
  },
  {
   "cell_type": "code",
   "execution_count": 16,
   "metadata": {
    "collapsed": true
   },
   "outputs": [],
   "source": [
    "def plot_optional():\n",
    "    import matplotlib as plt\n",
    "    get_ipython().magic('matplotlib inline')\n",
    "    Top15 = answer_one()\n",
    "    ax = Top15.plot(x='Rank', y='% Renewable', kind='scatter', \n",
    "                    c=['#e41a1c','#377eb8','#e41a1c','#4daf4a','#4daf4a','#377eb8','#4daf4a','#e41a1c',\n",
    "                       '#4daf4a','#e41a1c','#4daf4a','#4daf4a','#e41a1c','#dede00','#ff7f00'], \n",
    "                    xticks=range(1,16), s=6*Top15['2017']/10**10, alpha=.75, figsize=[16,6]);\n",
    "\n",
    "    for i, txt in enumerate(Top15.index):\n",
    "        ax.annotate(txt, [Top15['Rank'][i], Top15['% Renewable'][i]], ha='center')\n",
    "\n",
    "    print(\"This is an example of a visualization that can be created to help understand the data. This is a bubble chart showing % Renewable vs. Rank. The size of the bubble corresponds to the countries' 2014 GDP, and the color corresponds to the continent.\")\n"
   ]
  },
  {
   "cell_type": "code",
   "execution_count": 17,
   "metadata": {
    "collapsed": false
   },
   "outputs": [
    {
     "name": "stdout",
     "output_type": "stream",
     "text": [
      "This is an example of a visualization that can be created to help understand the data. This is a bubble chart showing % Renewable vs. Rank. The size of the bubble corresponds to the countries' 2014 GDP, and the color corresponds to the continent.\n"
     ]
    },
    {
     "data": {
      "image/png": "[encoded data removed]",
      "text/plain": [
       "<matplotlib.figure.Figure at 0x1dd1e685e48>"
      ]
     },
     "metadata": {},
     "output_type": "display_data"
    }
   ],
   "source": [
    "plot_optional()"
   ]
  },
  {
   "cell_type": "code",
   "execution_count": 11,
   "metadata": {
    "collapsed": false
   },
   "outputs": [],
   "source": [
    "def plot_optionl():\n",
    "    import matplotlib as plt\n",
    "    get_ipython().magic('matplotlib inline')\n",
    "    Top15 = answer_one()\n",
    "    ContinentDict  = {'China':'Asia', \n",
    "                      'United States':'North America', \n",
    "                      'Japan':'Asia', \n",
    "                      'United Kingdom':'Europe', \n",
    "                      'Russian Federation':'Europe', \n",
    "                      'Canada':'North America', \n",
    "                      'Germany':'Europe', \n",
    "                      'India':'Asia',\n",
    "                      'France':'Europe', \n",
    "                      'South Korea':'Asia', \n",
    "                      'Italy':'Europe', \n",
    "                      'Spain':'Europe', \n",
    "                      'Iran':'Asia',\n",
    "                      'Australia':'Australia', \n",
    "                      'Brazil':'South America'}\n",
    "    Top15 = Top15.reset_index()\n",
    "    Top15['Continent'] = [ContinentDict[country] for country in Top15['Country']]\n",
    "    ax = Top15.plot(x='Rank', y='% Renewable', kind='scatter', \n",
    "                    c=['#e41a1c','#377eb8','#e41a1c','#4daf4a','#4daf4a','#377eb8','#4daf4a','#e41a1c',\n",
    "                       '#4daf4a','#e41a1c','#4daf4a','#4daf4a','#e41a1c','#dede00','#ff7f00'], \n",
    "                    xticks=range(1,16), s=6*Top15['2014']/10**10, alpha=.75, figsize=[16,6]);\n",
    "\n",
    "    for i, txt in enumerate(Top15.index):\n",
    "        ax.annotate(txt, [Top15['Rank'][i], Top15['% Renewable'][i]], ha='center')\n",
    "\n",
    "    print(\"This is an example of a visualization that can be created to help understand the data. This is a bubble chart showing % Renewable vs. Rank. The size of the bubble corresponds to the countries' 2014 GDP, and the color corresponds to the continent.\")\n"
   ]
  },
  {
   "cell_type": "code",
   "execution_count": 12,
   "metadata": {
    "collapsed": false
   },
   "outputs": [
    {
     "name": "stdout",
     "output_type": "stream",
     "text": [
      "This is an example of a visualization that can be created to help understand the data. This is a bubble chart showing % Renewable vs. Rank. The size of the bubble corresponds to the countries' 2014 GDP, and the color corresponds to the continent.\n"
     ]
    },
    {
     "data": {
      "image/png": "[encoded data removed]",
      "text/plain": [
       "<matplotlib.figure.Figure at 0x1dd1d486cf8>"
      ]
     },
     "metadata": {},
     "output_type": "display_data"
    }
   ],
   "source": [
    "plot_optionl()"
   ]
  },
  {
   "cell_type": "code",
   "execution_count": null,
   "metadata": {
    "collapsed": true
   },
   "outputs": [],
   "source": []
  }
 ],
 "metadata": {
  "anaconda-cloud": {},
  "kernelspec": {
   "display_name": "Python [default]",
   "language": "python",
   "name": "python3"
  },
  "language_info": {
   "codemirror_mode": {
    "name": "ipython",
    "version": 3
   },
   "file_extension": ".py",
   "mimetype": "text/x-python",
   "name": "python",
   "nbconvert_exporter": "python",
   "pygments_lexer": "ipython3",
   "version": "3.5.2"
  }
 },
 "nbformat": 4,
 "nbformat_minor": 1
}
